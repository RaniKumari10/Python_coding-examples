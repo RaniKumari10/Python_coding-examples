{
 "cells": [
  {
   "cell_type": "markdown",
   "id": "6fab4f1e",
   "metadata": {},
   "source": [
    "<div style=\"background-color: #FFB200; text-align: center; padding: 10px; font-size: 20px; font-weight: bold; color: white; border: 4px solid #677D6A; border-radius: 15px;\">\n",
    "  <b>Python Essential Training</b>\n",
    "</div>"
   ]
  },
  {
   "cell_type": "markdown",
   "id": "68888f02",
   "metadata": {},
   "source": [
    "<div style=\"background-color: #F9FBE7; padding: 15px; text-align: left; font-size: 16px; border: 2px solid #D4E157; border-radius: 12px;\">\n",
    "    <h3 style=\"color: #1E88E5;\"><strong style=\"color: #FF5722;\">Code Challenge: Factorials</strong></h3><br>\n",
    "    <div style=\"background-color: #E8F5E9; padding: 15px; margin: 10px 0; border: 2px solid #66BB6A; border-radius: 12px;\">\n",
    "        <h4 style=\"color: #2E7D32;\">Challenge Description:</h4><br>\n",
    "        The \"factorial\" of a number is that number multiplied by all the positive whole numbers less than it. It is written with an exclamation point, like \"n!\" (read this as \"n factorial\").<br><br>\n",
    "        So, for a given number, <strong>n</strong>:<br>\n",
    "        <strong>n!</strong> = n × (n-1) × (n-2) × ... × 3 × 2 × 1<br><br>\n",
    "        For more concrete examples:<br>\n",
    "        <strong>5!</strong> = 5 × 4 × 3 × 2 × 1 = 120<br>\n",
    "        <strong>6!</strong> = 6 × 5 × 4 × 3 × 2 × 1 = 720<br><br>\n",
    "        The factorial of a number also happens to be the number of ways to arrange a set of items. For example, the possible arrangements of a standard deck of playing cards (containing 52 cards) is <strong>52!</strong>. This is a very, very big number.<br><br>\n",
    "        Mathematicians have decided that in a set of 0 items (an empty set), there is only one way to arrange them. Therefore, the factorial of 0 is defined as:<br>\n",
    "        <strong>0!</strong> = 1<br><br>\n",
    "        For the purposes of this challenge, factorials are only defined for non-negative integers (including 0). If an input is not a non-negative integer, you should return <strong>None</strong>.\n",
    "    </div>\n",
    "    <div style=\"background-color: #E3F2FD; padding: 15px; margin: 10px 0; border: 2px solid #1E88E5; border-radius: 12px;\">\n",
    "        <h4 style=\"color: #0277BD;\">Your Task:</h4><br>\n",
    "        Write a function called <strong>factorial</strong> that returns the factorial of a number passed in.<br><br>\n",
    "        <strong>Function Signature:</strong><br>\n",
    "        <pre>def factorial(num):</pre><br>\n",
    "        <strong>Parameters:</strong><br>\n",
    "        <ul>\n",
    "            <li><strong>num</strong> (int): : A non-negative integer (0 or positive integer) for which the factorial should be computed. If <strong>num</strong> is not a non-negative integer, the function should return <strong>None</strong>.</li>\n",
    "        </ul>\n",
    "        <strong>Returns:</strong><br>\n",
    "        <ul>\n",
    "            <li><strong>int</strong> or <strong>None</strong>: The factorial of num if it is a valid non-negative integer; otherwise, the function returns <strong>None</strong>.</li>\n",
    "        </ul> \n",
    "    </div>\n",
    "    <div style=\"background-color: #FFF8E1; padding: 15px; text-align: left; font-size: 16px; border: 2px solid #FBC02D; border-radius: 12px;\">\n",
    "    <h3 style=\"color: #F57F17;\"><strong>Constraints:</strong></h3>\n",
    "    <ul style=\"text-align: left; margin: 10px 0; padding-left: 20px;\">\n",
    "        <li><strong>int</strong> or <strong>None</strong>: The factorial of <strong>num</strong> if it is a valid non-negative integer; otherwise, the function returns <strong>None</strong>.</li>\n",
    "    </ul>\n",
    "    <h3 style=\"color: #F57F17;\"><strong>Examples:</strong></h3>\n",
    "    <div style=\"background-color: #E8F5E9; padding: 10px; border: 2px solid #66BB6A; border-radius: 12px;\">\n",
    "        <strong>Example 1:</strong><br>\n",
    "        Input: 5<br>\n",
    "        Result: 120 (since <strong>5!</strong> = <strong>5 × 4 × 3 × 2 × 1 = 120</strong>)\n",
    "    </div>\n",
    "       <div style=\"background-color: #E3F2FD; padding: 10px; margin: 10px 0; border: 2px solid #1E88E5; border-radius: 12px;\">\n",
    "        <strong>Example 2:</strong><br>\n",
    "        Input: 6<br>\n",
    "        Result: 720 (since <strong>6!</strong> = <strong>6 × 5 × 4 × 3 × 2 × 1 = 720</strong>)\n",
    "    </div>\n",
    "    <div style=\"background-color: #FFF9C4; padding: 10px; margin: 10px 0; border: 2px solid #FBC02D; border-radius: 12px;\">\n",
    "        <strong>Example 3:</strong><br>\n",
    "        Input: \"spam spam spam\"<br>\n",
    "        Result: None (since the input is not a non-negative integer)\n",
    "    </div>\n",
    "</div>\n",
    "    <div style=\"background-color: #FFF9C4; padding: 15px; margin: 10px 0; border: 2px solid #FBC02D; border-radius: 12px;\">\n",
    "        <h4 style=\"color: #F57F17;\">Examples:</h4>\n",
    "        <ul>\n",
    "            <li><strong>factorial(5)</strong> should return <strong>120</strong> (since 5! = 5 × 4 × 3 × 2 × 1 = 120).</li>\n",
    "            <li><strong>factorial(0)</strong> should return <strong>1</strong> (since 0! = 1).</li>\n",
    "            <li><strong>factorial(-5)</strong> should return <strong>None</strong> (since factorial is not defined for negative numbers).</li>\n",
    "            <li><strong>factorial(3.5)</strong> should return <strong>None</strong> (since factorial is only defined for integers).</li>\n",
    "            <li><strong>factorial('a')</strong> should return <strong>None</strong> (since the input is not an integer).</li>\n",
    "        </ul>\n",
    "    </div>\n",
    "    <div style=\"background-color: #FBE9E7; padding: 15px; margin: 10px 0; border: 2px solid #E53935; border-radius: 12px;\">\n",
    "        <h4 style=\"color: #D32F2F;\">Constraints:</h4><br>\n",
    "        You should not use any external libraries or functions other than standard Python.<br>\n",
    "        The function should handle edge cases appropriately and efficiently.\n",
    "    </div>\n",
    "</div>"
   ]
  },
  {
   "cell_type": "markdown",
   "id": "a22592c9",
   "metadata": {},
   "source": [
    "**Challenge Hints!**\n",
    "\n",
    "**HINT 1:** You can figure out whether a variable is of a certain type in the following way:"
   ]
  },
  {
   "cell_type": "code",
   "execution_count": 91,
   "id": "8cea12f8",
   "metadata": {},
   "outputs": [
    {
     "name": "stdout",
     "output_type": "stream",
     "text": [
      "myVar is an integer!\n"
     ]
    }
   ],
   "source": [
    "myVar = 1\n",
    "\n",
    "if type(myVar) == int:\n",
    "    print('myVar is an integer!')\n",
    "\n",
    "if type(myVar) != int:\n",
    "    print('myVar is NOT an integer!')"
   ]
  },
  {
   "cell_type": "markdown",
   "id": "84c45a47",
   "metadata": {},
   "source": [
    "**HINT 2:** You can create a while loop and manipulate multiple variables inside of it:"
   ]
  },
  {
   "cell_type": "code",
   "execution_count": 92,
   "id": "e9f5e914",
   "metadata": {},
   "outputs": [],
   "source": [
    "# This prints the sum of all of the numbers from 1 to 10\n",
    "i = 0\n",
    "s = 0\n",
    "while i < 10:\n",
    "    i = i + 1\n",
    "    s = s + i"
   ]
  },
  {
   "cell_type": "markdown",
   "id": "7f33ce6e",
   "metadata": {},
   "source": [
    "**HINT 3:** Alternatively, a function can call itself! This is called \"recursion\" This also returns the sum of all numbers from 0 to 10:"
   ]
  },
  {
   "cell_type": "code",
   "execution_count": 93,
   "id": "85a55b95",
   "metadata": {},
   "outputs": [
    {
     "data": {
      "text/plain": [
       "55"
      ]
     },
     "execution_count": 93,
     "metadata": {},
     "output_type": "execute_result"
    }
   ],
   "source": [
    "def addNumbers(i):\n",
    "    if i == 0:\n",
    "        return 0\n",
    "    return i + addNumbers(i - 1)\n",
    "    \n",
    "addNumbers(10)"
   ]
  },
  {
   "cell_type": "markdown",
   "id": "b23f7249",
   "metadata": {},
   "source": [
    "<div style=\"background-color: #FAFFAF; text-align: center; padding: 10px; font-size: 20px; font-weight: bold; color: #000000; border: 1px solid #677D6A; border-radius: 15px;\">\n",
    "  <b>Video_Solution</b>\n",
    "</div>"
   ]
  },
  {
   "cell_type": "code",
   "execution_count": 94,
   "id": "de7339a1",
   "metadata": {},
   "outputs": [
    {
     "name": "stdout",
     "output_type": "stream",
     "text": [
      "None\n"
     ]
    }
   ],
   "source": [
    "def factorial(num):\n",
    "    if type(num) != int:\n",
    "        return None\n",
    "    if num < 0:\n",
    "        return None\n",
    "    if num == 0:\n",
    "        return 1\n",
    "    return num * factorial(num - 1)\n",
    "\n",
    "# Testing with a negative number\n",
    "print(factorial(-1))\n"
   ]
  },
  {
   "cell_type": "code",
   "execution_count": 95,
   "id": "379932ac",
   "metadata": {},
   "outputs": [
    {
     "name": "stdout",
     "output_type": "stream",
     "text": [
      "120\n",
      "2\n",
      "None\n",
      "None\n",
      "None\n"
     ]
    }
   ],
   "source": [
    "print(factorial(5))       \n",
    "print(factorial(2))       \n",
    "print(factorial(\"spam\"))   \n",
    "print(factorial(-1))      \n",
    "print(factorial(3.5)) "
   ]
  },
  {
   "cell_type": "markdown",
   "id": "26bdec54",
   "metadata": {},
   "source": [
    "<div style=\"background-color: #FFF8E1; padding: 15px; text-align: Left; font-size: 16px; border: 2px solid #FBC02D; border-radius: 12px;\">\n",
    "    <h3 style=\"color: #F57F17;\"><strong>Explanation:</strong></h3><br>\n",
    "    <div style=\"background-color: #E8F5E9; padding: 10px; border: 2px solid #66BB6A; border-radius: 12px; margin-bottom: 10px;\">\n",
    "        <strong>isinstance(num, int):</strong> This checks if <strong>num</strong> is an instance of the <strong>int</strong> class. It returns <strong>True</strong> if <strong>num</strong> is an integer, and <strong>False</strong> otherwise.\n",
    "    </div>\n",
    "    <div style=\"background-color: #E3F2FD; padding: 10px; border: 2px solid #1E88E5; border-radius: 12px; margin-bottom: 10px;\">\n",
    "        <strong>if not isinstance(num, int):</strong> This negates the result of <strong>isinstance</strong>. If <strong>num</strong> is not an integer, the function returns <strong>None</strong>.\n",
    "    </div>\n",
    "    <div style=\"background-color: #FFF9C4; padding: 10px; border: 2px solid #FBC02D; border-radius: 12px;\">\n",
    "        Using <strong>isinstance</strong> is generally better than <strong>type(num) != int</strong> because it also works correctly with subclasses of <strong>int</strong> and is more readable.\n",
    "    </div>\n",
    "</div>"
   ]
  },
  {
   "cell_type": "code",
   "execution_count": 96,
   "id": "b4b14fb1",
   "metadata": {},
   "outputs": [
    {
     "name": "stdout",
     "output_type": "stream",
     "text": [
      "True\n",
      "False\n"
     ]
    }
   ],
   "source": [
    "class MyInt(int):\n",
    "    def __init__(self, value):\n",
    "        self.value = value\n",
    "\n",
    "    def is_even(self):\n",
    "        return self.value % 2 == 0\n",
    "\n",
    "# Create an instance of MyInt\n",
    "my_int = MyInt(10)\n",
    "\n",
    "# Using isinstance to check type\n",
    "print(isinstance(my_int, int))  # True, because MyInt is a subclass of int\n",
    "\n",
    "# Using type to check type\n",
    "print(type(my_int) == int)  # False, because my_int is of type MyInt, not exactly int"
   ]
  },
  {
   "cell_type": "markdown",
   "id": "0f05ab60",
   "metadata": {},
   "source": [
    "<div style=\"background-color: #FFCDD2; padding: 20px; border: 2px solid #D32F2F; border-radius: 12px; color: #304463;\">\n",
    "    <strong style=\"font-size: 1.5em;\">NOTE:</strong><br><br>\n",
    "    In Python, <strong>int</strong> is a built-in type, and it can have subclasses. Subclassing <strong>int</strong> means creating a new class that inherits from the <strong>int</strong> class, potentially adding new methods or modifying existing ones.\n",
    "    <ul>\n",
    "        <li>When you use <strong>isinstance</strong>, it checks not only if an object is of a specific type but also if it is an instance of a subclass of that type. This makes <strong>isinstance</strong> more flexible and robust for type checking compared to using <strong>type(num) != int</strong>, which only checks for the exact type and does not account for subclasses.</li>\n",
    "    </ul>\n",
    "</div>"
   ]
  },
  {
   "cell_type": "markdown",
   "id": "598cca73",
   "metadata": {},
   "source": [
    "<div style=\"background-color: #FAFFAF; text-align: center; padding: 10px; font-size: 20px; font-weight: bold; color: #000000; border: 1px solid #677D6A; border-radius: 15px;\">\n",
    "  <b>Solution using \"isinstance\"</b>\n",
    "</div>"
   ]
  },
  {
   "cell_type": "code",
   "execution_count": 97,
   "id": "582797b8",
   "metadata": {},
   "outputs": [
    {
     "data": {
      "text/plain": [
       "120"
      ]
     },
     "execution_count": 97,
     "metadata": {},
     "output_type": "execute_result"
    }
   ],
   "source": [
    "# Python code​​​​​​‌​‌‌​‌‌‌​​‌​‌​‌‌​‌‌‌​​​​‌ below\n",
    "\n",
    "def factorial(num):\n",
    "    \"\"\"Calculate the factorial of a non-negative integer.\n",
    "\n",
    "    Parameters:\n",
    "    num (int): A non-negative integer whose factorial is to be calculated.\n",
    "               If `num` is not a non-negative integer, the function returns `None`.\n",
    "\n",
    "    Returns:\n",
    "    int or None: The factorial of the input number if it is a non-negative integer;\n",
    "                 otherwise, returns `None`.\"\"\"\n",
    "    \n",
    "    if not isinstance(num, int) or num < 0:\n",
    "        return None\n",
    "    if num == 0:\n",
    "        return 1\n",
    "    result = 1\n",
    "    for i in range(1, num + 1):\n",
    "        result *= i\n",
    "    return result\n",
    "number = 5\n",
    "result = factorial(number)\n",
    "result"
   ]
  },
  {
   "cell_type": "code",
   "execution_count": 98,
   "id": "bd4ee299",
   "metadata": {},
   "outputs": [
    {
     "name": "stdout",
     "output_type": "stream",
     "text": [
      "120\n",
      "720\n",
      "None\n",
      "None\n",
      "None\n"
     ]
    }
   ],
   "source": [
    "print(factorial(5))       \n",
    "print(factorial(6))       \n",
    "print(factorial(\"spam\"))   \n",
    "print(factorial(-1))      \n",
    "print(factorial(3.5)) "
   ]
  },
  {
   "cell_type": "markdown",
   "id": "c270e2db",
   "metadata": {},
   "source": [
    "<div style=\"background-color: #F9FBE7; padding: 15px; text-align: left; font-size: 16px; border: 2px solid #D4E157; border-radius: 12px;\">\n",
    "    <h3 style=\"color: #1E88E5;\"><strong style=\"color: #FF5722;\">Explanation:</strong></h3><br>\n",
    "    <div style=\"background-color: #E8F5E9; padding: 15px; margin: 10px 0; border: 2px solid #66BB6A; border-radius: 12px;\">\n",
    "        <h4 style=\"color: #2E7D32;\">Input Validation:</h4><br>\n",
    "        Checks if <strong>num</strong> is an integer.<br>\n",
    "        Checks if <strong>num</strong> is non-negative.<br>\n",
    "        If either condition fails, it returns <strong>None</strong>.\n",
    "    </div>\n",
    "    <div style=\"background-color: #E3F2FD; padding: 15px; margin: 10px 0; border: 2px solid #1E88E5; border-radius: 12px;\">\n",
    "        <h4 style=\"color: #0277BD;\">Factorial Calculation:</h4><br>\n",
    "        If <strong>num</strong> is 0, it returns 1.<br>\n",
    "        For positive integers, it calculates the factorial using an iterative approach.\n",
    "    </div>\n",
    "    <div style=\"background-color: #FFF9C4; padding: 15px; margin: 10px 0; border: 2px solid #FBC02D; border-radius: 12px;\">\n",
    "        <h4 style=\"color: #F57F17;\">Ensuring Correctness:</h4><br>\n",
    "        This approach ensures the function adheres to the requirements and handles edge cases appropriately.\n",
    "    </div>\n",
    "</div>"
   ]
  },
  {
   "cell_type": "code",
   "execution_count": 99,
   "id": "5549f44a",
   "metadata": {},
   "outputs": [
    {
     "name": "stdout",
     "output_type": "stream",
     "text": [
      "120\n",
      "1\n",
      "None\n",
      "None\n",
      "None\n"
     ]
    }
   ],
   "source": [
    "def factorial(num):\n",
    "    if not isinstance(num, int) or num < 0:\n",
    "        return None\n",
    "    if num == 0:\n",
    "        return 1\n",
    "    return num * factorial(num - 1)\n",
    "\n",
    "\n",
    "print(factorial(5))   \n",
    "print(factorial(0))   \n",
    "print(factorial(-5))  \n",
    "print(factorial(3.5)) \n",
    "print(factorial('a')) "
   ]
  },
  {
   "cell_type": "markdown",
   "id": "6d0452ec",
   "metadata": {},
   "source": [
    "<div style=\"background-color: #F9FBE7; padding: 15px; text-align: left; font-size: 16px; border: 2px solid #D4E157; border-radius: 12px;\">\n",
    "    <h3 style=\"color: #1E88E5;\"><strong style=\"color: #FF5722;\">Explanation:</strong></h3><br>\n",
    "    <div style=\"background-color: #E8F5E9; padding: 15px; margin: 10px 0; border: 2px solid #66BB6A; border-radius: 12px;\">\n",
    "        <h4 style=\"color: #2E7D32;\">Input Validation:</h4><br>\n",
    "        Checks if <strong>num</strong> is an integer and non-negative.<br>\n",
    "        If the input does not meet these criteria, it returns <strong>None</strong>.\n",
    "    </div>\n",
    "    <div style=\"background-color: #E3F2FD; padding: 15px; margin: 10px 0; border: 2px solid #1E88E5; border-radius: 12px;\">\n",
    "        <h4 style=\"color: #0277BD;\">Base Case:</h4><br>\n",
    "        If <strong>num</strong> is 0, it returns 1 (since 0! = 1).\n",
    "    </div>\n",
    "    <div style=\"background-color: #FFF9C4; padding: 15px; margin: 10px 0; border: 2px solid #FBC02D; border-radius: 12px;\">\n",
    "        <h4 style=\"color: #F57F17;\">Recursive Case:</h4><br>\n",
    "        Calls itself with <strong>num - 1</strong> and multiplies the result by <strong>num</strong>, thus performing the factorial calculation recursively.\n",
    "    </div>\n",
    "    <div style=\"background-color: #FBE9E7; padding: 15px; margin: 10px 0; border: 2px solid #E53935; border-radius: 12px;\">\n",
    "        <h4 style=\"color: #D32F2F;\">Example Usage:</h4><br>\n",
    "        <ul>\n",
    "            <li><strong>factorial(5)</strong> computes 5 × 4 × 3 × 2 × 1 = 120</li>\n",
    "            <li><strong>factorial(0)</strong> returns 1</li>\n",
    "            <li>Invalid inputs like <strong>-5</strong>, <strong>3.5</strong>, and <strong>'a'</strong> return <strong>None</strong>.</li>\n",
    "        </ul>\n",
    "    </div>\n",
    "</div>"
   ]
  },
  {
   "cell_type": "markdown",
   "id": "ee012896",
   "metadata": {},
   "source": [
    "<div style=\"background-color: #FFD3B6; text-align: center; padding: 10px; font-size: 20px; font-weight: bold; color: #304463; border: 4px solid #677D6A; border-radius: 15px;\">\n",
    "  <b>Python program to calculate the factorial of a number using both iterative and recursive methods</b>\n",
    "</div>\n",
    "\n"
   ]
  },
  {
   "cell_type": "code",
   "execution_count": 100,
   "id": "0e2a2746",
   "metadata": {},
   "outputs": [
    {
     "name": "stdout",
     "output_type": "stream",
     "text": [
      "The factorial of 0 (iterative) is: 1\n"
     ]
    }
   ],
   "source": [
    "def factorial_iterative(n):\n",
    "    if n < 0:\n",
    "        return \"Factorial is not defined for negative numbers.\"\n",
    "    result = 1\n",
    "    for i in range(1, n + 1):\n",
    "        result *= i\n",
    "    return result\n",
    "\n",
    "\n",
    "number = 0\n",
    "print(f\"The factorial of {number} (iterative) is: {factorial_iterative(number)}\")"
   ]
  },
  {
   "cell_type": "markdown",
   "id": "216f82d1",
   "metadata": {},
   "source": [
    "<div style=\"background-color: #FAFFAF; text-align: center; padding: 10px; font-size: 20px; font-weight: bold; color: #000000; border: 1px solid #677D6A; border-radius: 15px;\">\n",
    "  <b>Recursive Method</b>\n",
    "</div>"
   ]
  },
  {
   "cell_type": "code",
   "execution_count": 101,
   "id": "4436007d",
   "metadata": {},
   "outputs": [
    {
     "data": {
      "text/plain": [
       "120"
      ]
     },
     "execution_count": 101,
     "metadata": {},
     "output_type": "execute_result"
    }
   ],
   "source": [
    "def factorial_recursive(n):\n",
    "    if n < 0:\n",
    "        return \"Factorial is not defined for negative numbers.\"\n",
    "    if n == 0 or n == 1:\n",
    "        return 1\n",
    "    else:\n",
    "        return n * factorial_recursive(n - 1)\n",
    "factorial_recursive(5)"
   ]
  },
  {
   "cell_type": "code",
   "execution_count": 102,
   "id": "76fd3b68",
   "metadata": {},
   "outputs": [
    {
     "data": {
      "text/plain": [
       "'Factorial is not defined for negative numbers.'"
      ]
     },
     "execution_count": 102,
     "metadata": {},
     "output_type": "execute_result"
    }
   ],
   "source": [
    "factorial_recursive(-1)"
   ]
  },
  {
   "cell_type": "code",
   "execution_count": 103,
   "id": "135a14d0",
   "metadata": {},
   "outputs": [
    {
     "name": "stdout",
     "output_type": "stream",
     "text": [
      "The factorial of 5 (recursive) is: 120\n"
     ]
    }
   ],
   "source": [
    "def factorial_recursive(n):\n",
    "    if n < 0:\n",
    "        return \"Factorial is not defined for negative numbers.\"\n",
    "    if n == 0 or n == 1:\n",
    "        return 1\n",
    "    else:\n",
    "        return n * factorial_recursive(n - 1)\n",
    "\n",
    "# Example usage:\n",
    "number = 5\n",
    "print(f\"The factorial of {number} (recursive) is: {factorial_recursive(number)}\")"
   ]
  },
  {
   "cell_type": "code",
   "execution_count": 104,
   "id": "41cabf73",
   "metadata": {},
   "outputs": [
    {
     "name": "stdout",
     "output_type": "stream",
     "text": [
      "1\n",
      "120\n"
     ]
    }
   ],
   "source": [
    "def factorial(n):\n",
    "    return 1 if n == 0 else n * factorial(n - 1)\n",
    "\n",
    "\n",
    "print(factorial(0))  \n",
    "print(factorial(5))"
   ]
  },
  {
   "cell_type": "code",
   "execution_count": 105,
   "id": "bd081ed7",
   "metadata": {},
   "outputs": [
    {
     "ename": "RecursionError",
     "evalue": "maximum recursion depth exceeded",
     "output_type": "error",
     "traceback": [
      "\u001b[1;31m---------------------------------------------------------------------------\u001b[0m",
      "\u001b[1;31mRecursionError\u001b[0m                            Traceback (most recent call last)",
      "Cell \u001b[1;32mIn[105], line 1\u001b[0m\n\u001b[1;32m----> 1\u001b[0m \u001b[38;5;28mprint\u001b[39m(\u001b[43mfactorial\u001b[49m\u001b[43m(\u001b[49m\u001b[38;5;241;43m-\u001b[39;49m\u001b[38;5;241;43m1\u001b[39;49m\u001b[43m)\u001b[49m)  \n",
      "Cell \u001b[1;32mIn[104], line 2\u001b[0m, in \u001b[0;36mfactorial\u001b[1;34m(n)\u001b[0m\n\u001b[0;32m      1\u001b[0m \u001b[38;5;28;01mdef\u001b[39;00m \u001b[38;5;21mfactorial\u001b[39m(n):\n\u001b[1;32m----> 2\u001b[0m     \u001b[38;5;28;01mreturn\u001b[39;00m \u001b[38;5;241m1\u001b[39m \u001b[38;5;28;01mif\u001b[39;00m n \u001b[38;5;241m==\u001b[39m \u001b[38;5;241m0\u001b[39m \u001b[38;5;28;01melse\u001b[39;00m n \u001b[38;5;241m*\u001b[39m \u001b[43mfactorial\u001b[49m\u001b[43m(\u001b[49m\u001b[43mn\u001b[49m\u001b[43m \u001b[49m\u001b[38;5;241;43m-\u001b[39;49m\u001b[43m \u001b[49m\u001b[38;5;241;43m1\u001b[39;49m\u001b[43m)\u001b[49m\n",
      "Cell \u001b[1;32mIn[104], line 2\u001b[0m, in \u001b[0;36mfactorial\u001b[1;34m(n)\u001b[0m\n\u001b[0;32m      1\u001b[0m \u001b[38;5;28;01mdef\u001b[39;00m \u001b[38;5;21mfactorial\u001b[39m(n):\n\u001b[1;32m----> 2\u001b[0m     \u001b[38;5;28;01mreturn\u001b[39;00m \u001b[38;5;241m1\u001b[39m \u001b[38;5;28;01mif\u001b[39;00m n \u001b[38;5;241m==\u001b[39m \u001b[38;5;241m0\u001b[39m \u001b[38;5;28;01melse\u001b[39;00m n \u001b[38;5;241m*\u001b[39m \u001b[43mfactorial\u001b[49m\u001b[43m(\u001b[49m\u001b[43mn\u001b[49m\u001b[43m \u001b[49m\u001b[38;5;241;43m-\u001b[39;49m\u001b[43m \u001b[49m\u001b[38;5;241;43m1\u001b[39;49m\u001b[43m)\u001b[49m\n",
      "    \u001b[1;31m[... skipping similar frames: factorial at line 2 (2971 times)]\u001b[0m\n",
      "Cell \u001b[1;32mIn[104], line 2\u001b[0m, in \u001b[0;36mfactorial\u001b[1;34m(n)\u001b[0m\n\u001b[0;32m      1\u001b[0m \u001b[38;5;28;01mdef\u001b[39;00m \u001b[38;5;21mfactorial\u001b[39m(n):\n\u001b[1;32m----> 2\u001b[0m     \u001b[38;5;28;01mreturn\u001b[39;00m \u001b[38;5;241m1\u001b[39m \u001b[38;5;28;01mif\u001b[39;00m n \u001b[38;5;241m==\u001b[39m \u001b[38;5;241m0\u001b[39m \u001b[38;5;28;01melse\u001b[39;00m n \u001b[38;5;241m*\u001b[39m \u001b[43mfactorial\u001b[49m\u001b[43m(\u001b[49m\u001b[43mn\u001b[49m\u001b[43m \u001b[49m\u001b[38;5;241;43m-\u001b[39;49m\u001b[43m \u001b[49m\u001b[38;5;241;43m1\u001b[39;49m\u001b[43m)\u001b[49m\n",
      "\u001b[1;31mRecursionError\u001b[0m: maximum recursion depth exceeded"
     ]
    }
   ],
   "source": [
    "print(factorial(-1))  "
   ]
  },
  {
   "cell_type": "code",
   "execution_count": null,
   "id": "ef4b1aaa",
   "metadata": {},
   "outputs": [],
   "source": [
    "def factorial(n):\n",
    "    if not isinstance(n, int) or n < 0:\n",
    "        return None\n",
    "    return 1 if n == 0 else n * factorial(n - 1)\n",
    "\n",
    "\n",
    "print(factorial(0))  \n",
    "print(factorial(5))  \n",
    "print(factorial(-1))  \n",
    "print(factorial(3.5))\n",
    "print(factorial('a'))"
   ]
  },
  {
   "cell_type": "markdown",
   "id": "0d64a2bb",
   "metadata": {},
   "source": [
    "<div style=\"background-color: #FAFFAF; text-align: center; padding: 10px; font-size: 20px; font-weight: bold; color: #000000; border: 1px solid #677D6A; border-radius: 15px;\">\n",
    "  <b>Using math Module</b>\n",
    "</div>"
   ]
  },
  {
   "cell_type": "code",
   "execution_count": null,
   "id": "a19ff6ba",
   "metadata": {},
   "outputs": [],
   "source": [
    "import math\n",
    "\n",
    "# Example usage:\n",
    "print(math.factorial(0))"
   ]
  },
  {
   "cell_type": "code",
   "execution_count": null,
   "id": "934f500a",
   "metadata": {},
   "outputs": [],
   "source": [
    "print(math.factorial(-1))"
   ]
  },
  {
   "cell_type": "code",
   "execution_count": null,
   "id": "bd6e03dc",
   "metadata": {},
   "outputs": [],
   "source": [
    "import math\n",
    "\n",
    "try:\n",
    "    print(math.factorial(-1))  \n",
    "except ValueError as e:\n",
    "    print(f\"Error: {e}\") "
   ]
  },
  {
   "cell_type": "code",
   "execution_count": null,
   "id": "53f4980e",
   "metadata": {},
   "outputs": [],
   "source": [
    "def factorial(n):\n",
    "    if not isinstance(n, int) or n < 0:\n",
    "        return None\n",
    "    return math.factorial(n)\n",
    "\n",
    "\n",
    "print(factorial(0))   \n",
    "print(factorial(5))   \n",
    "print(factorial(-1))  \n",
    "print(factorial(3.5)) \n",
    "print(factorial('a')) "
   ]
  },
  {
   "cell_type": "markdown",
   "id": "e7fb6e62",
   "metadata": {},
   "source": [
    "<div style=\"background-color: #FAFFAF; text-align: center; padding: 10px; font-size: 20px; font-weight: bold; color: #000000; border: 1px solid #677D6A; border-radius: 15px;\">\n",
    "  <b>Full Program Combining Both Methods : iterative and recursive methods </b>\n",
    "</div>"
   ]
  },
  {
   "cell_type": "code",
   "execution_count": null,
   "id": "69b5468f",
   "metadata": {},
   "outputs": [],
   "source": [
    "def factorial_iterative(n):\n",
    "    if n < 0:\n",
    "        return \"Factorial is not defined for negative numbers.\"\n",
    "    result = 1\n",
    "    for i in range(1, n + 1):\n",
    "        result *= i\n",
    "    return result\n",
    "\n",
    "def factorial_recursive(n):\n",
    "    if n < 0:\n",
    "        return \"Factorial is not defined for negative numbers.\"\n",
    "    if n == 0 or n == 1:\n",
    "        return 1\n",
    "    else:\n",
    "        return n * factorial_recursive(n - 1)\n",
    "\n",
    "\n",
    "    \n",
    "number = 5\n",
    "print(f\"The factorial of {number} (iterative) is: {factorial_iterative(number)}\")\n",
    "print(f\"The factorial of {number} (recursive) is: {factorial_recursive(number)}\")"
   ]
  },
  {
   "cell_type": "markdown",
   "id": "43bfe457",
   "metadata": {},
   "source": [
    "<div style=\"background-color: #FAFFAF; text-align: center; padding: 10px; font-size: 20px; font-weight: bold; color: #000000; border: 1px solid #677D6A; border-radius: 15px;\">\n",
    "  <b>User input</b>\n",
    "</div>"
   ]
  },
  {
   "cell_type": "code",
   "execution_count": null,
   "id": "3b0b2c39",
   "metadata": {},
   "outputs": [],
   "source": [
    "def factorial_iterative(n):\n",
    "    \"\"\"Calculate factorial using an iterative approach.\"\"\"\n",
    "    if n < 0:\n",
    "        return \"Factorial is not defined for negative numbers.\"\n",
    "    result = 1\n",
    "    for i in range(1, n + 1):\n",
    "        result *= i\n",
    "    return result\n",
    "\n",
    "def factorial_recursive(n):\n",
    "    \"\"\"Calculate factorial using a recursive approach.\"\"\"\n",
    "    if n < 0:\n",
    "        return \"Factorial is not defined for negative numbers.\"\n",
    "    if n == 0 or n == 1:\n",
    "        return 1\n",
    "    else:\n",
    "        return n * factorial_recursive(n - 1)\n",
    "\n",
    "# User input\n",
    "try:\n",
    "    number = int(input(\"Enter a non-negative integer: \"))\n",
    "\n",
    "    # Ensure number is non-negative\n",
    "    if number < 0:\n",
    "        print(\"Factorial is not defined for negative numbers.\")\n",
    "    else:\n",
    "        # Calculate factorial using both methods\n",
    "        print(f\"The factorial of {number} (iterative) is: {factorial_iterative(number)}\")\n",
    "        print(f\"The factorial of {number} (recursive) is: {factorial_recursive(number)}\")\n",
    "\n",
    "except ValueError:\n",
    "    # Handle the case where input is not an integer\n",
    "    print(\"Invalid input. Please enter a valid non-negative integer.\")"
   ]
  },
  {
   "cell_type": "code",
   "execution_count": null,
   "id": "4f5571b6",
   "metadata": {},
   "outputs": [],
   "source": [
    "def factorial_iterative(n):\n",
    "    \"\"\"Calculate factorial using an iterative approach.\"\"\"\n",
    "    if n < 0:\n",
    "        return \"Factorial is not defined for negative numbers.\"\n",
    "    result = 1\n",
    "    for i in range(1, n + 1):\n",
    "        result *= i\n",
    "    return result\n",
    "\n",
    "def factorial_recursive(n):\n",
    "    \"\"\"Calculate factorial using a recursive approach.\"\"\"\n",
    "    if n < 0:\n",
    "        return \"Factorial is not defined for negative numbers.\"\n",
    "    if n == 0 or n == 1:\n",
    "        return 1\n",
    "    else:\n",
    "        return n * factorial_recursive(n - 1)\n",
    "\n",
    "def main():\n",
    "    try:\n",
    "        # User input\n",
    "        number = int(input(\"Enter a non-negative integer: \"))\n",
    "\n",
    "        # Ensure number is non-negative\n",
    "        if number < 0:\n",
    "            print(\"Factorial is not defined for negative numbers.\")\n",
    "        else:\n",
    "            # Calculate factorial using both methods\n",
    "            print(f\"The factorial of {number} (iterative) is: {factorial_iterative(number)}\")\n",
    "            print(f\"The factorial of {number} (recursive) is: {factorial_recursive(number)}\")\n",
    "\n",
    "    except ValueError:\n",
    "        # Handle the case where input is not an integer\n",
    "        print(\"Invalid input. Please enter a valid non-negative integer.\")\n",
    "\n",
    "# Run the main function\n",
    "if __name__ == \"__main__\":\n",
    "    main()"
   ]
  },
  {
   "cell_type": "code",
   "execution_count": null,
   "id": "b60f10ad",
   "metadata": {},
   "outputs": [],
   "source": []
  }
 ],
 "metadata": {
  "kernelspec": {
   "display_name": "Python 3 (ipykernel)",
   "language": "python",
   "name": "python3"
  },
  "language_info": {
   "codemirror_mode": {
    "name": "ipython",
    "version": 3
   },
   "file_extension": ".py",
   "mimetype": "text/x-python",
   "name": "python",
   "nbconvert_exporter": "python",
   "pygments_lexer": "ipython3",
   "version": "3.11.5"
  }
 },
 "nbformat": 4,
 "nbformat_minor": 5
}
