{
 "cells": [
  {
   "cell_type": "markdown",
   "id": "4d05dc24",
   "metadata": {},
   "source": [
    "<div style=\"background-color: #FFB200; text-align: center; padding: 10px; font-size: 20px; font-weight: bold; color: white; border: 4px solid #677D6A; border-radius: 15px;\">\n",
    "  <b>Python Essential Training</b>\n",
    "</div>"
   ]
  },
  {
   "cell_type": "markdown",
   "id": "2a3183b5",
   "metadata": {},
   "source": [
    "<div style=\"background-color: #F9FBE7; padding: 15px; text-align: left; font-size: 16px; border: 2px solid #D4E157; border-radius: 12px;\">\n",
    "    <h3 style=\"color: #1E88E5;\"><strong style=\"color: #FF5722;\">Code Challenge: Factorials</strong></h3><br>\n",
    "    <div style=\"background-color: #E8F5E9; padding: 15px; margin: 10px 0; border: 2px solid #66BB6A; border-radius: 12px;\">\n",
    "        <h4 style=\"color: #2E7D32;\">Challenge Description:</h4><br>\n",
    "        The \"factorial\" of a number is that number multiplied by all the positive whole numbers less than it. It is written with an exclamation point, like \"n!\" (read this as \"n factorial\").<br><br>\n",
    "        So, for a given number, <strong>n</strong>:<br>\n",
    "        <strong>n!</strong> = n × (n-1) × (n-2) × ... × 3 × 2 × 1<br><br>\n",
    "        For more concrete examples:<br>\n",
    "        <strong>5!</strong> = 5 × 4 × 3 × 2 × 1 = 120<br>\n",
    "        <strong>6!</strong> = 6 × 5 × 4 × 3 × 2 × 1 = 720<br><br>\n",
    "        The factorial of a number also happens to be the number of ways to arrange a set of items. For example, the possible arrangements of a standard deck of playing cards (containing 52 cards) is <strong>52!</strong>. This is a very, very big number.<br><br>\n",
    "        Mathematicians have decided that in a set of 0 items (an empty set), there is only one way to arrange them. Therefore, the factorial of 0 is defined as:<br>\n",
    "        <strong>0!</strong> = 1<br><br>\n",
    "        For the purposes of this challenge, factorials are only defined for non-negative integers (including 0). If an input is not a non-negative integer, you should return <strong>None</strong>.\n",
    "    </div>\n",
    "    <div style=\"background-color: #E3F2FD; padding: 15px; margin: 10px 0; border: 2px solid #1E88E5; border-radius: 12px;\">\n",
    "        <h4 style=\"color: #0277BD;\">Your Task:</h4><br>\n",
    "        Write a function called <strong>factorial</strong> that returns the factorial of a number passed in.<br><br>\n",
    "        <strong>Function Signature:</strong><br>\n",
    "        <pre>def factorial(num):</pre><br>\n",
    "        <strong>Parameters:</strong><br>\n",
    "        <ul>\n",
    "            <li><strong>num</strong> (int): : A non-negative integer (0 or positive integer) for which the factorial should be computed. If <strong>num</strong> is not a non-negative integer, the function should return <strong>None</strong>.</li>\n",
    "        </ul>\n",
    "        <strong>Returns:</strong><br>\n",
    "        <ul>\n",
    "            <li><strong>int</strong> or <strong>None</strong>: The factorial of num if it is a valid non-negative integer; otherwise, the function returns <strong>None</strong>.</li>\n",
    "        </ul> \n",
    "    </div>\n",
    "    <div style=\"background-color: #FFF8E1; padding: 15px; text-align: left; font-size: 16px; border: 2px solid #FBC02D; border-radius: 12px;\">\n",
    "    <h3 style=\"color: #F57F17;\"><strong>Constraints:</strong></h3>\n",
    "    <ul style=\"text-align: left; margin: 10px 0; padding-left: 20px;\">\n",
    "        <li><strong>int</strong> or <strong>None</strong>: The factorial of <strong>num</strong> if it is a valid non-negative integer; otherwise, the function returns <strong>None</strong>.</li>\n",
    "    </ul>\n",
    "    <h3 style=\"color: #F57F17;\"><strong>Examples:</strong></h3>\n",
    "    <div style=\"background-color: #E8F5E9; padding: 10px; border: 2px solid #66BB6A; border-radius: 12px;\">\n",
    "        <strong>Example 1:</strong><br>\n",
    "        Input: 5<br>\n",
    "        Result: 120 (since <strong>5!</strong> = <strong>5 × 4 × 3 × 2 × 1 = 120</strong>)\n",
    "    </div>\n",
    "       <div style=\"background-color: #E3F2FD; padding: 10px; margin: 10px 0; border: 2px solid #1E88E5; border-radius: 12px;\">\n",
    "        <strong>Example 2:</strong><br>\n",
    "        Input: 6<br>\n",
    "        Result: 720 (since <strong>6!</strong> = <strong>6 × 5 × 4 × 3 × 2 × 1 = 720</strong>)\n",
    "    </div>\n",
    "    <div style=\"background-color: #FFF9C4; padding: 10px; margin: 10px 0; border: 2px solid #FBC02D; border-radius: 12px;\">\n",
    "        <strong>Example 3:</strong><br>\n",
    "        Input: \"spam spam spam\"<br>\n",
    "        Result: None (since the input is not a non-negative integer)\n",
    "    </div>\n",
    "</div>\n",
    "    <div style=\"background-color: #FFF9C4; padding: 15px; margin: 10px 0; border: 2px solid #FBC02D; border-radius: 12px;\">\n",
    "        <h4 style=\"color: #F57F17;\">Examples:</h4>\n",
    "        <ul>\n",
    "            <li><strong>factorial(5)</strong> should return <strong>120</strong> (since 5! = 5 × 4 × 3 × 2 × 1 = 120).</li>\n",
    "            <li><strong>factorial(0)</strong> should return <strong>1</strong> (since 0! = 1).</li>\n",
    "            <li><strong>factorial(-5)</strong> should return <strong>None</strong> (since factorial is not defined for negative numbers).</li>\n",
    "            <li><strong>factorial(3.5)</strong> should return <strong>None</strong> (since factorial is only defined for integers).</li>\n",
    "            <li><strong>factorial('a')</strong> should return <strong>None</strong> (since the input is not an integer).</li>\n",
    "        </ul>\n",
    "    </div>\n",
    "    <div style=\"background-color: #FBE9E7; padding: 15px; margin: 10px 0; border: 2px solid #E53935; border-radius: 12px;\">\n",
    "        <h4 style=\"color: #D32F2F;\">Constraints:</h4><br>\n",
    "        You should not use any external libraries or functions other than standard Python.<br>\n",
    "        The function should handle edge cases appropriately and efficiently.\n",
    "    </div>\n",
    "</div>"
   ]
  },
  {
   "cell_type": "code",
   "execution_count": 45,
   "id": "19f15c14",
   "metadata": {},
   "outputs": [
    {
     "data": {
      "text/plain": [
       "120"
      ]
     },
     "execution_count": 45,
     "metadata": {},
     "output_type": "execute_result"
    }
   ],
   "source": [
    "# Python code​​​​​​‌​‌‌​‌‌‌​​‌​‌​‌‌​‌‌‌​​​​‌ below\n",
    "\n",
    "def factorial(num):\n",
    "    \"\"\"Calculate the factorial of a non-negative integer.\n",
    "\n",
    "    Parameters:\n",
    "    num (int): A non-negative integer whose factorial is to be calculated.\n",
    "               If `num` is not a non-negative integer, the function returns `None`.\n",
    "\n",
    "    Returns:\n",
    "    int or None: The factorial of the input number if it is a non-negative integer;\n",
    "                 otherwise, returns `None`.\"\"\"\n",
    "    \n",
    "    if not isinstance(num, int) or num < 0:\n",
    "        return None\n",
    "    if num == 0:\n",
    "        return 1\n",
    "    result = 1\n",
    "    for i in range(1, num + 1):\n",
    "        result *= i\n",
    "    return result\n",
    "number = 5\n",
    "result = factorial(number)\n",
    "result"
   ]
  },
  {
   "cell_type": "code",
   "execution_count": 46,
   "id": "6189d212",
   "metadata": {},
   "outputs": [
    {
     "name": "stdout",
     "output_type": "stream",
     "text": [
      "120\n",
      "720\n",
      "None\n",
      "None\n",
      "None\n"
     ]
    }
   ],
   "source": [
    "print(factorial(5))       \n",
    "print(factorial(6))       \n",
    "print(factorial(\"spam\"))   \n",
    "print(factorial(-1))      \n",
    "print(factorial(3.5)) "
   ]
  },
  {
   "cell_type": "markdown",
   "id": "b4271256",
   "metadata": {},
   "source": [
    "<div style=\"background-color: #F9FBE7; padding: 15px; text-align: left; font-size: 16px; border: 2px solid #D4E157; border-radius: 12px;\">\n",
    "    <h3 style=\"color: #1E88E5;\"><strong style=\"color: #FF5722;\">Explanation:</strong></h3><br>\n",
    "    <div style=\"background-color: #E8F5E9; padding: 15px; margin: 10px 0; border: 2px solid #66BB6A; border-radius: 12px;\">\n",
    "        <h4 style=\"color: #2E7D32;\">Input Validation:</h4><br>\n",
    "        Checks if <strong>num</strong> is an integer.<br>\n",
    "        Checks if <strong>num</strong> is non-negative.<br>\n",
    "        If either condition fails, it returns <strong>None</strong>.\n",
    "    </div>\n",
    "    <div style=\"background-color: #E3F2FD; padding: 15px; margin: 10px 0; border: 2px solid #1E88E5; border-radius: 12px;\">\n",
    "        <h4 style=\"color: #0277BD;\">Factorial Calculation:</h4><br>\n",
    "        If <strong>num</strong> is 0, it returns 1.<br>\n",
    "        For positive integers, it calculates the factorial using an iterative approach.\n",
    "    </div>\n",
    "    <div style=\"background-color: #FFF9C4; padding: 15px; margin: 10px 0; border: 2px solid #FBC02D; border-radius: 12px;\">\n",
    "        <h4 style=\"color: #F57F17;\">Ensuring Correctness:</h4><br>\n",
    "        This approach ensures the function adheres to the requirements and handles edge cases appropriately.\n",
    "    </div>\n",
    "</div>"
   ]
  },
  {
   "cell_type": "code",
   "execution_count": 20,
   "id": "8ed035d1",
   "metadata": {},
   "outputs": [
    {
     "name": "stdout",
     "output_type": "stream",
     "text": [
      "120\n",
      "1\n",
      "None\n",
      "None\n",
      "None\n"
     ]
    }
   ],
   "source": [
    "def factorial(num):\n",
    "    if not isinstance(num, int) or num < 0:\n",
    "        return None\n",
    "    if num == 0:\n",
    "        return 1\n",
    "    return num * factorial(num - 1)\n",
    "\n",
    "\n",
    "print(factorial(5))   \n",
    "print(factorial(0))   \n",
    "print(factorial(-5))  \n",
    "print(factorial(3.5)) \n",
    "print(factorial('a')) "
   ]
  },
  {
   "cell_type": "markdown",
   "id": "b99865da",
   "metadata": {},
   "source": [
    "<div style=\"background-color: #F9FBE7; padding: 15px; text-align: left; font-size: 16px; border: 2px solid #D4E157; border-radius: 12px;\">\n",
    "    <h3 style=\"color: #1E88E5;\"><strong style=\"color: #FF5722;\">Explanation:</strong></h3><br>\n",
    "    <div style=\"background-color: #E8F5E9; padding: 15px; margin: 10px 0; border: 2px solid #66BB6A; border-radius: 12px;\">\n",
    "        <h4 style=\"color: #2E7D32;\">Input Validation:</h4><br>\n",
    "        Checks if <strong>num</strong> is an integer and non-negative.<br>\n",
    "        If the input does not meet these criteria, it returns <strong>None</strong>.\n",
    "    </div>\n",
    "    <div style=\"background-color: #E3F2FD; padding: 15px; margin: 10px 0; border: 2px solid #1E88E5; border-radius: 12px;\">\n",
    "        <h4 style=\"color: #0277BD;\">Base Case:</h4><br>\n",
    "        If <strong>num</strong> is 0, it returns 1 (since 0! = 1).\n",
    "    </div>\n",
    "    <div style=\"background-color: #FFF9C4; padding: 15px; margin: 10px 0; border: 2px solid #FBC02D; border-radius: 12px;\">\n",
    "        <h4 style=\"color: #F57F17;\">Recursive Case:</h4><br>\n",
    "        Calls itself with <strong>num - 1</strong> and multiplies the result by <strong>num</strong>, thus performing the factorial calculation recursively.\n",
    "    </div>\n",
    "    <div style=\"background-color: #FBE9E7; padding: 15px; margin: 10px 0; border: 2px solid #E53935; border-radius: 12px;\">\n",
    "        <h4 style=\"color: #D32F2F;\">Example Usage:</h4><br>\n",
    "        <ul>\n",
    "            <li><strong>factorial(5)</strong> computes 5 × 4 × 3 × 2 × 1 = 120</li>\n",
    "            <li><strong>factorial(0)</strong> returns 1</li>\n",
    "            <li>Invalid inputs like <strong>-5</strong>, <strong>3.5</strong>, and <strong>'a'</strong> return <strong>None</strong>.</li>\n",
    "        </ul>\n",
    "    </div>\n",
    "</div>"
   ]
  },
  {
   "cell_type": "markdown",
   "id": "8fe0d249",
   "metadata": {},
   "source": [
    "<div style=\"background-color: #FFD3B6; text-align: center; padding: 10px; font-size: 20px; font-weight: bold; color: #304463; border: 4px solid #677D6A; border-radius: 15px;\">\n",
    "  <b>Python program to calculate the factorial of a number using both iterative and recursive methods</b>\n",
    "</div>\n",
    "\n"
   ]
  },
  {
   "cell_type": "code",
   "execution_count": 22,
   "id": "0e2a2746",
   "metadata": {},
   "outputs": [
    {
     "name": "stdout",
     "output_type": "stream",
     "text": [
      "The factorial of 0 (iterative) is: 1\n"
     ]
    }
   ],
   "source": [
    "def factorial_iterative(n):\n",
    "    if n < 0:\n",
    "        return \"Factorial is not defined for negative numbers.\"\n",
    "    result = 1\n",
    "    for i in range(1, n + 1):\n",
    "        result *= i\n",
    "    return result\n",
    "\n",
    "\n",
    "number = 0\n",
    "print(f\"The factorial of {number} (iterative) is: {factorial_iterative(number)}\")"
   ]
  },
  {
   "cell_type": "markdown",
   "id": "9ec8da28",
   "metadata": {},
   "source": [
    "<div style=\"background-color: #FAFFAF; text-align: center; padding: 10px; font-size: 20px; font-weight: bold; color: #000000; border: 1px solid #677D6A; border-radius: 15px;\">\n",
    "  <b>Recursive Method</b>\n",
    "</div>"
   ]
  },
  {
   "cell_type": "code",
   "execution_count": 24,
   "id": "4436007d",
   "metadata": {},
   "outputs": [
    {
     "data": {
      "text/plain": [
       "120"
      ]
     },
     "execution_count": 24,
     "metadata": {},
     "output_type": "execute_result"
    }
   ],
   "source": [
    "def factorial_recursive(n):\n",
    "    if n < 0:\n",
    "        return \"Factorial is not defined for negative numbers.\"\n",
    "    if n == 0 or n == 1:\n",
    "        return 1\n",
    "    else:\n",
    "        return n * factorial_recursive(n - 1)\n",
    "factorial_recursive(5)"
   ]
  },
  {
   "cell_type": "code",
   "execution_count": 25,
   "id": "c37da327",
   "metadata": {},
   "outputs": [
    {
     "data": {
      "text/plain": [
       "'Factorial is not defined for negative numbers.'"
      ]
     },
     "execution_count": 25,
     "metadata": {},
     "output_type": "execute_result"
    }
   ],
   "source": [
    "factorial_recursive(-1)"
   ]
  },
  {
   "cell_type": "code",
   "execution_count": 26,
   "id": "135a14d0",
   "metadata": {},
   "outputs": [
    {
     "name": "stdout",
     "output_type": "stream",
     "text": [
      "The factorial of 5 (recursive) is: 120\n"
     ]
    }
   ],
   "source": [
    "def factorial_recursive(n):\n",
    "    if n < 0:\n",
    "        return \"Factorial is not defined for negative numbers.\"\n",
    "    if n == 0 or n == 1:\n",
    "        return 1\n",
    "    else:\n",
    "        return n * factorial_recursive(n - 1)\n",
    "\n",
    "# Example usage:\n",
    "number = 5\n",
    "print(f\"The factorial of {number} (recursive) is: {factorial_recursive(number)}\")"
   ]
  },
  {
   "cell_type": "code",
   "execution_count": 29,
   "id": "41cabf73",
   "metadata": {},
   "outputs": [
    {
     "name": "stdout",
     "output_type": "stream",
     "text": [
      "1\n",
      "120\n"
     ]
    }
   ],
   "source": [
    "def factorial(n):\n",
    "    return 1 if n == 0 else n * factorial(n - 1)\n",
    "\n",
    "\n",
    "print(factorial(0))  \n",
    "print(factorial(5))"
   ]
  },
  {
   "cell_type": "code",
   "execution_count": 30,
   "id": "5987b5d2",
   "metadata": {},
   "outputs": [
    {
     "ename": "RecursionError",
     "evalue": "maximum recursion depth exceeded",
     "output_type": "error",
     "traceback": [
      "\u001b[1;31m---------------------------------------------------------------------------\u001b[0m",
      "\u001b[1;31mRecursionError\u001b[0m                            Traceback (most recent call last)",
      "Cell \u001b[1;32mIn[30], line 1\u001b[0m\n\u001b[1;32m----> 1\u001b[0m \u001b[38;5;28mprint\u001b[39m(\u001b[43mfactorial\u001b[49m\u001b[43m(\u001b[49m\u001b[38;5;241;43m-\u001b[39;49m\u001b[38;5;241;43m1\u001b[39;49m\u001b[43m)\u001b[49m)  \n",
      "Cell \u001b[1;32mIn[29], line 2\u001b[0m, in \u001b[0;36mfactorial\u001b[1;34m(n)\u001b[0m\n\u001b[0;32m      1\u001b[0m \u001b[38;5;28;01mdef\u001b[39;00m \u001b[38;5;21mfactorial\u001b[39m(n):\n\u001b[1;32m----> 2\u001b[0m     \u001b[38;5;28;01mreturn\u001b[39;00m \u001b[38;5;241m1\u001b[39m \u001b[38;5;28;01mif\u001b[39;00m n \u001b[38;5;241m==\u001b[39m \u001b[38;5;241m0\u001b[39m \u001b[38;5;28;01melse\u001b[39;00m n \u001b[38;5;241m*\u001b[39m \u001b[43mfactorial\u001b[49m\u001b[43m(\u001b[49m\u001b[43mn\u001b[49m\u001b[43m \u001b[49m\u001b[38;5;241;43m-\u001b[39;49m\u001b[43m \u001b[49m\u001b[38;5;241;43m1\u001b[39;49m\u001b[43m)\u001b[49m\n",
      "Cell \u001b[1;32mIn[29], line 2\u001b[0m, in \u001b[0;36mfactorial\u001b[1;34m(n)\u001b[0m\n\u001b[0;32m      1\u001b[0m \u001b[38;5;28;01mdef\u001b[39;00m \u001b[38;5;21mfactorial\u001b[39m(n):\n\u001b[1;32m----> 2\u001b[0m     \u001b[38;5;28;01mreturn\u001b[39;00m \u001b[38;5;241m1\u001b[39m \u001b[38;5;28;01mif\u001b[39;00m n \u001b[38;5;241m==\u001b[39m \u001b[38;5;241m0\u001b[39m \u001b[38;5;28;01melse\u001b[39;00m n \u001b[38;5;241m*\u001b[39m \u001b[43mfactorial\u001b[49m\u001b[43m(\u001b[49m\u001b[43mn\u001b[49m\u001b[43m \u001b[49m\u001b[38;5;241;43m-\u001b[39;49m\u001b[43m \u001b[49m\u001b[38;5;241;43m1\u001b[39;49m\u001b[43m)\u001b[49m\n",
      "    \u001b[1;31m[... skipping similar frames: factorial at line 2 (2971 times)]\u001b[0m\n",
      "Cell \u001b[1;32mIn[29], line 2\u001b[0m, in \u001b[0;36mfactorial\u001b[1;34m(n)\u001b[0m\n\u001b[0;32m      1\u001b[0m \u001b[38;5;28;01mdef\u001b[39;00m \u001b[38;5;21mfactorial\u001b[39m(n):\n\u001b[1;32m----> 2\u001b[0m     \u001b[38;5;28;01mreturn\u001b[39;00m \u001b[38;5;241m1\u001b[39m \u001b[38;5;28;01mif\u001b[39;00m n \u001b[38;5;241m==\u001b[39m \u001b[38;5;241m0\u001b[39m \u001b[38;5;28;01melse\u001b[39;00m n \u001b[38;5;241m*\u001b[39m \u001b[43mfactorial\u001b[49m\u001b[43m(\u001b[49m\u001b[43mn\u001b[49m\u001b[43m \u001b[49m\u001b[38;5;241;43m-\u001b[39;49m\u001b[43m \u001b[49m\u001b[38;5;241;43m1\u001b[39;49m\u001b[43m)\u001b[49m\n",
      "\u001b[1;31mRecursionError\u001b[0m: maximum recursion depth exceeded"
     ]
    }
   ],
   "source": [
    "print(factorial(-1))  "
   ]
  },
  {
   "cell_type": "code",
   "execution_count": 31,
   "id": "190bcf68",
   "metadata": {},
   "outputs": [
    {
     "name": "stdout",
     "output_type": "stream",
     "text": [
      "1\n",
      "120\n",
      "None\n",
      "None\n",
      "None\n"
     ]
    }
   ],
   "source": [
    "def factorial(n):\n",
    "    if not isinstance(n, int) or n < 0:\n",
    "        return None\n",
    "    return 1 if n == 0 else n * factorial(n - 1)\n",
    "\n",
    "\n",
    "print(factorial(0))  \n",
    "print(factorial(5))  \n",
    "print(factorial(-1))  \n",
    "print(factorial(3.5))\n",
    "print(factorial('a'))"
   ]
  },
  {
   "cell_type": "markdown",
   "id": "6f718ed8",
   "metadata": {},
   "source": [
    "<div style=\"background-color: #FAFFAF; text-align: center; padding: 10px; font-size: 20px; font-weight: bold; color: #000000; border: 1px solid #677D6A; border-radius: 15px;\">\n",
    "  <b>Using math Module</b>\n",
    "</div>"
   ]
  },
  {
   "cell_type": "code",
   "execution_count": 28,
   "id": "7aa1e11d",
   "metadata": {},
   "outputs": [
    {
     "name": "stdout",
     "output_type": "stream",
     "text": [
      "1\n"
     ]
    }
   ],
   "source": [
    "import math\n",
    "\n",
    "# Example usage:\n",
    "print(math.factorial(0))"
   ]
  },
  {
   "cell_type": "code",
   "execution_count": 32,
   "id": "9bcf74c0",
   "metadata": {},
   "outputs": [
    {
     "ename": "ValueError",
     "evalue": "factorial() not defined for negative values",
     "output_type": "error",
     "traceback": [
      "\u001b[1;31m---------------------------------------------------------------------------\u001b[0m",
      "\u001b[1;31mValueError\u001b[0m                                Traceback (most recent call last)",
      "Cell \u001b[1;32mIn[32], line 1\u001b[0m\n\u001b[1;32m----> 1\u001b[0m \u001b[38;5;28mprint\u001b[39m(\u001b[43mmath\u001b[49m\u001b[38;5;241;43m.\u001b[39;49m\u001b[43mfactorial\u001b[49m\u001b[43m(\u001b[49m\u001b[38;5;241;43m-\u001b[39;49m\u001b[38;5;241;43m1\u001b[39;49m\u001b[43m)\u001b[49m)\n",
      "\u001b[1;31mValueError\u001b[0m: factorial() not defined for negative values"
     ]
    }
   ],
   "source": [
    "print(math.factorial(-1))"
   ]
  },
  {
   "cell_type": "code",
   "execution_count": 33,
   "id": "f6bb6626",
   "metadata": {},
   "outputs": [
    {
     "name": "stdout",
     "output_type": "stream",
     "text": [
      "Error: factorial() not defined for negative values\n"
     ]
    }
   ],
   "source": [
    "import math\n",
    "\n",
    "try:\n",
    "    print(math.factorial(-1))  \n",
    "except ValueError as e:\n",
    "    print(f\"Error: {e}\") "
   ]
  },
  {
   "cell_type": "code",
   "execution_count": 34,
   "id": "cbcfc165",
   "metadata": {},
   "outputs": [
    {
     "name": "stdout",
     "output_type": "stream",
     "text": [
      "1\n",
      "120\n",
      "None\n",
      "None\n",
      "None\n"
     ]
    }
   ],
   "source": [
    "def factorial(n):\n",
    "    if not isinstance(n, int) or n < 0:\n",
    "        return None\n",
    "    return math.factorial(n)\n",
    "\n",
    "\n",
    "print(factorial(0))   \n",
    "print(factorial(5))   \n",
    "print(factorial(-1))  \n",
    "print(factorial(3.5)) \n",
    "print(factorial('a')) "
   ]
  },
  {
   "cell_type": "markdown",
   "id": "e718a9f9",
   "metadata": {},
   "source": [
    "<div style=\"background-color: #FAFFAF; text-align: center; padding: 10px; font-size: 20px; font-weight: bold; color: #000000; border: 1px solid #677D6A; border-radius: 15px;\">\n",
    "  <b>Full Program Combining Both Methods : iterative and recursive methods </b>\n",
    "</div>"
   ]
  },
  {
   "cell_type": "code",
   "execution_count": 35,
   "id": "e4f7c0a3",
   "metadata": {},
   "outputs": [
    {
     "name": "stdout",
     "output_type": "stream",
     "text": [
      "The factorial of 5 (iterative) is: 120\n",
      "The factorial of 5 (recursive) is: 120\n"
     ]
    }
   ],
   "source": [
    "def factorial_iterative(n):\n",
    "    if n < 0:\n",
    "        return \"Factorial is not defined for negative numbers.\"\n",
    "    result = 1\n",
    "    for i in range(1, n + 1):\n",
    "        result *= i\n",
    "    return result\n",
    "\n",
    "def factorial_recursive(n):\n",
    "    if n < 0:\n",
    "        return \"Factorial is not defined for negative numbers.\"\n",
    "    if n == 0 or n == 1:\n",
    "        return 1\n",
    "    else:\n",
    "        return n * factorial_recursive(n - 1)\n",
    "\n",
    "\n",
    "    \n",
    "number = 5\n",
    "print(f\"The factorial of {number} (iterative) is: {factorial_iterative(number)}\")\n",
    "print(f\"The factorial of {number} (recursive) is: {factorial_recursive(number)}\")"
   ]
  },
  {
   "cell_type": "markdown",
   "id": "0d3cdf8c",
   "metadata": {},
   "source": [
    "<div style=\"background-color: #FAFFAF; text-align: center; padding: 10px; font-size: 20px; font-weight: bold; color: #000000; border: 1px solid #677D6A; border-radius: 15px;\">\n",
    "  <b>User input</b>\n",
    "</div>"
   ]
  },
  {
   "cell_type": "code",
   "execution_count": 47,
   "id": "12d35a15",
   "metadata": {},
   "outputs": [
    {
     "name": "stdout",
     "output_type": "stream",
     "text": [
      "Enter a non-negative integer: 0\n",
      "The factorial of 0 (iterative) is: 1\n",
      "The factorial of 0 (recursive) is: 1\n"
     ]
    }
   ],
   "source": [
    "def factorial_iterative(n):\n",
    "    \"\"\"Calculate factorial using an iterative approach.\"\"\"\n",
    "    if n < 0:\n",
    "        return \"Factorial is not defined for negative numbers.\"\n",
    "    result = 1\n",
    "    for i in range(1, n + 1):\n",
    "        result *= i\n",
    "    return result\n",
    "\n",
    "def factorial_recursive(n):\n",
    "    \"\"\"Calculate factorial using a recursive approach.\"\"\"\n",
    "    if n < 0:\n",
    "        return \"Factorial is not defined for negative numbers.\"\n",
    "    if n == 0 or n == 1:\n",
    "        return 1\n",
    "    else:\n",
    "        return n * factorial_recursive(n - 1)\n",
    "\n",
    "# User input\n",
    "try:\n",
    "    number = int(input(\"Enter a non-negative integer: \"))\n",
    "\n",
    "    # Ensure number is non-negative\n",
    "    if number < 0:\n",
    "        print(\"Factorial is not defined for negative numbers.\")\n",
    "    else:\n",
    "        # Calculate factorial using both methods\n",
    "        print(f\"The factorial of {number} (iterative) is: {factorial_iterative(number)}\")\n",
    "        print(f\"The factorial of {number} (recursive) is: {factorial_recursive(number)}\")\n",
    "\n",
    "except ValueError:\n",
    "    # Handle the case where input is not an integer\n",
    "    print(\"Invalid input. Please enter a valid non-negative integer.\")"
   ]
  },
  {
   "cell_type": "code",
   "execution_count": 48,
   "id": "12537009",
   "metadata": {},
   "outputs": [
    {
     "name": "stdout",
     "output_type": "stream",
     "text": [
      "Enter a non-negative integer: 0\n",
      "The factorial of 0 (iterative) is: 1\n",
      "The factorial of 0 (recursive) is: 1\n"
     ]
    }
   ],
   "source": [
    "def factorial_iterative(n):\n",
    "    \"\"\"Calculate factorial using an iterative approach.\"\"\"\n",
    "    if n < 0:\n",
    "        return \"Factorial is not defined for negative numbers.\"\n",
    "    result = 1\n",
    "    for i in range(1, n + 1):\n",
    "        result *= i\n",
    "    return result\n",
    "\n",
    "def factorial_recursive(n):\n",
    "    \"\"\"Calculate factorial using a recursive approach.\"\"\"\n",
    "    if n < 0:\n",
    "        return \"Factorial is not defined for negative numbers.\"\n",
    "    if n == 0 or n == 1:\n",
    "        return 1\n",
    "    else:\n",
    "        return n * factorial_recursive(n - 1)\n",
    "\n",
    "def main():\n",
    "    try:\n",
    "        # User input\n",
    "        number = int(input(\"Enter a non-negative integer: \"))\n",
    "\n",
    "        # Ensure number is non-negative\n",
    "        if number < 0:\n",
    "            print(\"Factorial is not defined for negative numbers.\")\n",
    "        else:\n",
    "            # Calculate factorial using both methods\n",
    "            print(f\"The factorial of {number} (iterative) is: {factorial_iterative(number)}\")\n",
    "            print(f\"The factorial of {number} (recursive) is: {factorial_recursive(number)}\")\n",
    "\n",
    "    except ValueError:\n",
    "        # Handle the case where input is not an integer\n",
    "        print(\"Invalid input. Please enter a valid non-negative integer.\")\n",
    "\n",
    "# Run the main function\n",
    "if __name__ == \"__main__\":\n",
    "    main()"
   ]
  },
  {
   "cell_type": "code",
   "execution_count": null,
   "id": "10a03c7e",
   "metadata": {},
   "outputs": [],
   "source": []
  }
 ],
 "metadata": {
  "kernelspec": {
   "display_name": "Python 3 (ipykernel)",
   "language": "python",
   "name": "python3"
  },
  "language_info": {
   "codemirror_mode": {
    "name": "ipython",
    "version": 3
   },
   "file_extension": ".py",
   "mimetype": "text/x-python",
   "name": "python",
   "nbconvert_exporter": "python",
   "pygments_lexer": "ipython3",
   "version": "3.11.5"
  }
 },
 "nbformat": 4,
 "nbformat_minor": 5
}
