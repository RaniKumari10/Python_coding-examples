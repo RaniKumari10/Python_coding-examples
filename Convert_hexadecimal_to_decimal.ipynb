{
 "cells": [
  {
   "cell_type": "markdown",
   "id": "6fab4f1e",
   "metadata": {},
   "source": [
    "<div style=\"background-color: #FFB200; text-align: center; padding: 10px; font-size: 20px; font-weight: bold; color: white; border: 4px solid #677D6A; border-radius: 15px;\">\n",
    "  <b>Python Essential Training</b>\n",
    "</div>"
   ]
  },
  {
   "cell_type": "markdown",
   "id": "6ef468a9",
   "metadata": {},
   "source": [
    "<div style=\"background-color: #F8EDED; padding: 20px; border: 2px solid #7E57C2; border-radius: 12px; color: #304463;\">\n",
    " <h3 style=\"color: #1E88E5;\"><strong style=\"color: #FF5722;\">Code Challenge: Convert hexadecimal to decimal </strong></h3><br>\n",
    "<div style=\"background-color: #D1C4E9; padding: 20px; border: 2px solid #7E57C2; border-radius: 12px; color: #304463;\">\n",
    "    <strong style=\"font-size: 1.5em;\">Problem Description: </strong><br><br>\n",
    "    <ul>\n",
    "        <li>Hexadecimal, or \"base 16,\" uses all of the numbers 0-9, plus a few others to signify higher numbers:</li>\n",
    "        <li>A = 10</li>\n",
    "        <li>B = 11</li>\n",
    "        <li>C = 12</li>\n",
    "        <li>D = 13</li>\n",
    "        <li>E = 14</li>\n",
    "        <li>F = 15</li>\n",
    "    </ul>\n",
    "</div>\n",
    "\n",
    "<div style=\"background-color: #FFCCBC; padding: 20px; border: 2px solid #FF7043; border-radius: 12px; color: #304463;\">\n",
    "    <strong style=\"font-size: 1.5em;\">For Example:</strong><br><br>\n",
    "    <ul>\n",
    "        <li>The hexadecimal number 2A represents the decimal number 42 because:\n",
    "            <ul>\n",
    "                <li>2 is in the 16's place: 2 × 16<sup>1</sup></li>\n",
    "                <li>A (10 in decimal) is in the 1's place: 10 × 16<sup>0</sup></li>\n",
    "                <li>So, the calculation is: 2 × 16 + 10 × 1 = 32 + 10 = 42.</li>\n",
    "            </ul>\n",
    "        </li><br>\n",
    "        <li>The hexadecimal number CAB represents the decimal number 3243 because:\n",
    "            <ul>\n",
    "                <li>C (12 in decimal) is in the 256's place: 12 × 16<sup>2</sup></li>\n",
    "                <li>A (10 in decimal) is in the 16's place: 10 × 16<sup>1</sup></li>\n",
    "                <li>B (11 in decimal) is in the 1's place: 11 × 16<sup>0</sup></li>\n",
    "                <li>So, the calculation is: 12 × 256 + 10 × 16 + 11 × 1 = 3072 + 160 + 11 = 3243.</li>\n",
    "            </ul>\n",
    "        </li>\n",
    "    </ul>\n",
    "</div>\n",
    "\n",
    "<div style=\"background-color: #C8E6C9; padding: 20px; border: 2px solid #388E3C; border-radius: 12px; color: #304463;\">\n",
    "    <strong style=\"font-size: 1.5em;\">Task:</strong><br><br>\n",
    "    Write a function to convert a hexadecimal string (up to three characters long) into a decimal integer. Do not use the Python function int(hexNum, 16). Write your own function!\n",
    "</div>\n",
    "\n",
    "<div style=\"background-color: #FFE0B2; padding: 20px; border: 2px solid #F57C00; border-radius: 12px; color: #304463;\">\n",
    "    <strong style=\"font-size: 1.5em;\">Parameters:</strong><br><br>\n",
    "    <ul>\n",
    "        <li>hexNum (str): A string representing a hexadecimal number (up to three characters long).</li>\n",
    "    </ul>\n",
    "</div>\n",
    "\n",
    "<div style=\"background-color: #FFCDD2; padding: 20px; border: 2px solid #D32F2F; border-radius: 12px; color: #304463;\">\n",
    "    <strong style=\"font-size: 1.5em;\">Returns:</strong><br><br>\n",
    "    <ul>\n",
    "        <li><strong>int</strong> or <strong>None</strong>: The decimal value of the hexadecimal input, or None if it is not a valid hexadecimal input.</li>\n",
    "    </ul>\n",
    "</div>\n",
    "\n",
    "<div style=\"background-color: #BBDEFB; padding: 20px; border: 2px solid #1976D2; border-radius: 12px; color: #304463;\">\n",
    "    <strong style=\"font-size: 1.5em;\">Examples:</strong><br><br>\n",
    "    <ul>\n",
    "        <li>Input: \"ABC\"</li>\n",
    "        <li>Output: 2748</li>\n",
    "        <li>Input: \"Not a number\"</li>\n",
    "        <li>Output: None</li>\n",
    "    </ul>\n",
    "</div>\n",
    "\n",
    "\n",
    "\n",
    "\n",
    "\n"
   ]
  },
  {
   "cell_type": "markdown",
   "id": "4143303c",
   "metadata": {},
   "source": [
    "### Challenge Hints!\n",
    "**Hint 1:** The following will convert 'ABC' into a decimal:"
   ]
  },
  {
   "cell_type": "code",
   "execution_count": 3,
   "id": "a5017e8c",
   "metadata": {},
   "outputs": [
    {
     "data": {
      "text/plain": [
       "2748"
      ]
     },
     "execution_count": 3,
     "metadata": {},
     "output_type": "execute_result"
    }
   ],
   "source": [
    "hexNumbers = {\n",
    "    '0': 0, '1': 1, '2': 2, '3': 3, '4': 4, '5': 5, '6': 6, '7': 7, '8': 8, '9': 9,\n",
    "    'A': 10, 'B': 11, 'C': 12, 'D': 13, 'E': 14, 'F': 15\n",
    "}\n",
    "\n",
    "hexNumbers['A'] * 256 + hexNumbers['B'] * 16 + hexNumbers['C'] "
   ]
  },
  {
   "cell_type": "markdown",
   "id": "23fe547a",
   "metadata": {},
   "source": [
    "\n",
    "**Hint 2:** You can check to see how long the hex string is with:"
   ]
  },
  {
   "cell_type": "code",
   "execution_count": 4,
   "id": "fc80ee3f",
   "metadata": {},
   "outputs": [
    {
     "data": {
      "text/plain": [
       "2"
      ]
     },
     "execution_count": 4,
     "metadata": {},
     "output_type": "execute_result"
    }
   ],
   "source": [
    "hexNum = '1B'\n",
    "len(hexNum)"
   ]
  },
  {
   "cell_type": "markdown",
   "id": "e507b5ca",
   "metadata": {},
   "source": [
    "**Hint 3:** You can get the character at each position of a string like this:\n"
   ]
  },
  {
   "cell_type": "code",
   "execution_count": 5,
   "id": "d5b36a2a",
   "metadata": {},
   "outputs": [
    {
     "name": "stdout",
     "output_type": "stream",
     "text": [
      "A\n",
      "B\n",
      "C\n"
     ]
    }
   ],
   "source": [
    "hexNum = 'ABC'\n",
    "print(hexNum[0])\n",
    "print(hexNum[1])\n",
    "print(hexNum[2])"
   ]
  },
  {
   "cell_type": "code",
   "execution_count": 6,
   "id": "e864ff30",
   "metadata": {},
   "outputs": [],
   "source": [
    "hexNumbers = {\n",
    "    '0': 0, '1': 1, '2': 2, '3': 3, '4': 4, '5': 5, '6': 6, '7': 7, '8': 8, '9': 9,\n",
    "    'A': 10, 'B': 11, 'C': 12, 'D': 13, 'E': 14, 'F': 15\n",
    "}\n",
    "\n",
    "# Converts a string hexadecimal number into an integer decimal\n",
    "# If hexNum is not a valid hexadecimal number, returns None\n",
    "def hexToDec(hexNum):\n",
    "    pass"
   ]
  },
  {
   "cell_type": "markdown",
   "id": "bb6d0d01",
   "metadata": {},
   "source": [
    "**Hint 4:** You can tell if every character in a string is a hex character like this:"
   ]
  },
  {
   "cell_type": "code",
   "execution_count": 7,
   "id": "13f552c3",
   "metadata": {},
   "outputs": [
    {
     "name": "stdout",
     "output_type": "stream",
     "text": [
      "Z is not a hex character!\n"
     ]
    }
   ],
   "source": [
    "myString = 'ABCZ'\n",
    "for char in myString:\n",
    "    if char not in hexNumbers:\n",
    "        print(f'{char} is not a hex character!')"
   ]
  },
  {
   "cell_type": "markdown",
   "id": "9f180a3e",
   "metadata": {},
   "source": [
    "<div style=\"background-color: #FAFFAF; text-align: center; padding: 10px; font-size: 20px; font-weight: bold; color: #000000; border: 1px solid #677D6A; border-radius: 15px;\">\n",
    "  <b>Vedio_Solution</b>\n",
    "</div>\n"
   ]
  },
  {
   "cell_type": "markdown",
   "id": "6e8c857a",
   "metadata": {},
   "source": [
    "### Here, we assume that hexNum can be either a list or a string of characters."
   ]
  },
  {
   "cell_type": "code",
   "execution_count": 8,
   "id": "ba17c789",
   "metadata": {},
   "outputs": [
    {
     "name": "stdout",
     "output_type": "stream",
     "text": [
      "2748\n",
      "26\n",
      "2\n",
      "None\n",
      "None\n"
     ]
    }
   ],
   "source": [
    "hexNumbers = {\n",
    "    '0': 0, '1': 1, '2': 2, '3': 3, '4': 4, '5': 5, '6': 6, '7': 7, '8': 8, '9': 9,\n",
    "    'A': 10, 'B': 11, 'C': 12, 'D': 13, 'E': 14, 'F': 15\n",
    "}\n",
    "\n",
    "# Converts a string hexadecimal number into an integer decimal\n",
    "# If hexNum is not a valid hexadecimal number, returns None\n",
    "def hexToDec(hexNum):\n",
    "    for char in hexNum:\n",
    "        if char not in hexNumbers:\n",
    "            return None\n",
    "        \n",
    "    converted = 0\n",
    "    exponent = len(hexNum) - 1\n",
    "    for char in hexNum:\n",
    "        converted = converted + (hexNumbers[char]) * (16 ** exponent)\n",
    "        exponent = exponent - 1\n",
    "    return converted\n",
    "\n",
    "print(hexToDec('ABC'))  \n",
    "print(hexToDec('1A'))   \n",
    "print(hexToDec('2'))   \n",
    "print(hexToDec('G1'))   # Output: None (invalid character 'G')\n",
    "print(hexToDec('12G'))  # Output: None (invalid character 'G')"
   ]
  },
  {
   "cell_type": "code",
   "execution_count": 9,
   "id": "898a0ea5",
   "metadata": {},
   "outputs": [
    {
     "name": "stdout",
     "output_type": "stream",
     "text": [
      "2748\n",
      "26\n",
      "2\n",
      "None\n",
      "None\n"
     ]
    }
   ],
   "source": [
    "hexNumbers = {\n",
    "    '0': 0, '1': 1, '2': 2, '3': 3, '4': 4, '5': 5, '6': 6, '7': 7, '8': 8, '9': 9,\n",
    "    'A': 10, 'B': 11, 'C': 12, 'D': 13, 'E': 14, 'F': 15\n",
    "}\n",
    "\n",
    "def hexToDec(hexNum):\n",
    "    # Check if all characters in hexNum are valid hexadecimal digits\n",
    "    for char in hexNum:\n",
    "        if char not in hexNumbers:\n",
    "            return None\n",
    "    \n",
    "    # Convert the hexadecimal number to decimal based on its length\n",
    "    if len(hexNum) == 3:\n",
    "        return (hexNumbers[hexNum[0]] * 256 +\n",
    "                hexNumbers[hexNum[1]] * 16 +\n",
    "                hexNumbers[hexNum[2]]) * 1\n",
    "    elif len(hexNum) == 2:\n",
    "        return (hexNumbers[hexNum[0]] * 16 +\n",
    "                hexNumbers[hexNum[1]])  * 1\n",
    "    elif len(hexNum) == 1:\n",
    "        return hexNumbers[hexNum[0]] * 1\n",
    "    else:\n",
    "        return None  # Return None for invalid lengths\n",
    "\n",
    "\n",
    "print(hexToDec('ABC'))  \n",
    "print(hexToDec('1A'))   \n",
    "print(hexToDec('2'))   \n",
    "print(hexToDec('G1'))   # Output: None (invalid character 'G')\n",
    "print(hexToDec('12G'))  # Output: None (invalid character 'G')"
   ]
  },
  {
   "cell_type": "code",
   "execution_count": 12,
   "id": "057618a9",
   "metadata": {},
   "outputs": [
    {
     "name": "stdout",
     "output_type": "stream",
     "text": [
      "1\n",
      "None\n",
      "4\n",
      "6\n",
      "7\n",
      "10\n",
      "2748\n",
      "None\n",
      "3243\n"
     ]
    }
   ],
   "source": [
    "# Python code​​​​​​‌​‌‌​‌‌‌​​‌‌‌​‌‌‌​‌​​‌‌​​ below\n",
    "hexNumbers = {\n",
    "    '0': 0, '1': 1, '2': 2, '3': 3, '4': 4, '5': 5, '6': 6, '7': 7, '8': 8, '9': 9,\n",
    "    'A': 10, 'B': 11, 'C': 12, 'D': 13, 'E': 14, 'F': 15\n",
    "}\n",
    "\n",
    "# Converts a string hexadecimal number into an integer decimal\n",
    "# If hexNum is not a valid hexadecimal number, returns None\n",
    "def hexToDec(hexNum):\n",
    "   \n",
    "    # Check if all characters in hexNum are valid hexadecimal digits\n",
    "    if not isinstance(hexNum, str)  or len(hexNum) > 3:\n",
    "        return None\n",
    "    \n",
    "    for char in hexNum:\n",
    "        if char not in hexNumbers:\n",
    "            return None\n",
    "    \n",
    "    # Initialize the decimal value\n",
    "    decimal_value = 0\n",
    "    \n",
    "    # Process each character in the reversed string\n",
    "    for i, char in enumerate(reversed(hexNum)):\n",
    "        decimal_value += hexNumbers[char] * (16 ** i)\n",
    "    \n",
    "    return decimal_value\n",
    "\n",
    "# Example usage\n",
    "print(hexToDec('1'))         \n",
    "print(hexToDec('2M'))          # Output: None (invalid hexadecimal digit)\n",
    "print(hexToDec('4'))         \n",
    "print(hexToDec('6'))          \n",
    "print(hexToDec('7'))           \n",
    "print(hexToDec('A'))           \n",
    "print(hexToDec('ABC'))        \n",
    "print(hexToDec('Not a number')) # Output: None (invalid input)\n",
    "print(hexToDec('CAB'))    "
   ]
  },
  {
   "cell_type": "code",
   "execution_count": 11,
   "id": "07d61996",
   "metadata": {},
   "outputs": [
    {
     "name": "stdout",
     "output_type": "stream",
     "text": [
      "1\n",
      "None\n",
      "4\n",
      "6\n",
      "7\n",
      "10\n",
      "2748\n",
      "None\n",
      "None\n"
     ]
    }
   ],
   "source": [
    "def hex_to_decimal(hex_num):\n",
    "    # Define valid hexadecimal digits\n",
    "    hex_digits = '0123456789ABCDEF'\n",
    "    \n",
    "    # Validate input: must be a string and up to three characters long\n",
    "    if not isinstance(hex_num, str) or len(hex_num) > 3:\n",
    "        return None\n",
    "    \n",
    "    # Convert input to uppercase for uniformity\n",
    "    hex_num = hex_num.upper()\n",
    "    decimal_value = 0\n",
    "    \n",
    "    # Process each character in the reversed string\n",
    "    for i, char in enumerate(reversed(hex_num)):\n",
    "        if char not in hex_digits:\n",
    "            return None\n",
    "        value = hex_digits.index(char)\n",
    "        decimal_value += value * (16 ** i)\n",
    "    \n",
    "    return decimal_value\n",
    "\n",
    "# Example usage\n",
    "print(hex_to_decimal('1'))         \n",
    "print(hex_to_decimal('2M'))          # Output: None (invalid hexadecimal digit)\n",
    "print(hex_to_decimal('4'))         \n",
    "print(hex_to_decimal('6'))          \n",
    "print(hex_to_decimal('7'))           \n",
    "print(hex_to_decimal('A'))           \n",
    "print(hex_to_decimal('ABC'))        \n",
    "print(hex_to_decimal('Not a number')) # Output: None (invalid input)\n",
    "print(hex_to_decimal('spam spam spam'))         "
   ]
  },
  {
   "cell_type": "code",
   "execution_count": null,
   "id": "2c849223",
   "metadata": {},
   "outputs": [],
   "source": []
  },
  {
   "cell_type": "code",
   "execution_count": null,
   "id": "599a3e33",
   "metadata": {},
   "outputs": [],
   "source": []
  },
  {
   "cell_type": "code",
   "execution_count": null,
   "id": "b70eff93",
   "metadata": {},
   "outputs": [],
   "source": []
  }
 ],
 "metadata": {
  "kernelspec": {
   "display_name": "Python 3 (ipykernel)",
   "language": "python",
   "name": "python3"
  },
  "language_info": {
   "codemirror_mode": {
    "name": "ipython",
    "version": 3
   },
   "file_extension": ".py",
   "mimetype": "text/x-python",
   "name": "python",
   "nbconvert_exporter": "python",
   "pygments_lexer": "ipython3",
   "version": "3.11.5"
  }
 },
 "nbformat": 4,
 "nbformat_minor": 5
}
